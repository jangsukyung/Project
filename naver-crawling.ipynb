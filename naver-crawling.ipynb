{
 "cells": [
  {
   "cell_type": "code",
   "execution_count": 16,
   "metadata": {},
   "outputs": [
    {
     "name": "stdout",
     "output_type": "stream",
     "text": [
      "방통고 재학생도 학교 밖 청소년인가요? 꿈드림 이용 가능하나요??\n",
      "만 14세 학교 밖 청소년 인터넷 취직인허증 제가 만 14세 학교 밖 청소년인데요 취직인허증을 발급 받고 알바를 하려고 하는데 학밖청이면 학교장 동의는 없어도 된다고 하더라고요 그런데 인터넷으로 발급을 받으려고 보니 학교장 동의가 필수 작성란인데 어떻게 해야 하나요?\n",
      "학교밖청소년 관련 문제 어떻게 되나요 ... 나잇대는 잘 모르고 그냥 10에 하자 막 그래서 했다고 하는데 알고보니 학교밖청소년, 즉 그 여자애가 고등학교 자퇴한 신분이더라고요 이럴 경우 자칫 잘못하다 미성년자성매매 될수 있다는데 사실인가요? 변호사님께 우선 도움 청합니다.\n",
      "학교밖 청소년 건강검진 18살 자퇴생입니다 제가 14살때<그때는 학교 다닐 때> 긴막대기로 했을때 혈뇨? 단백질뇨?가 나와서 피 뽑아서 검사할때는 콩팥 문제가 있다고 병원가라고 했는데...안갔어요... 근데 학교밖 청소년이지만 콩팥에 문제가 있는 지 궁금해서 무료로 건강검진 받고 싶은데.. 어떻게 받나요?\n",
      "충남 학교 밖 청소년 세상소통카드 세상소통카드 자퇴한 청소년만 신청 가능한가요? 지금 중학교 재학중인 청소년은 신청이 불가능 한가요?\n",
      "학교 밖 청소년 범위? 고등학교를 자퇴하고 검정고시를 보면 학교 밖 청소년이라고 하던데 그 상태에서 대학교에 입학했다가 자퇴해도 여전히 학교 밖 청소년인가요?\n",
      "방통고 재학생도 학교 밖 청소년인가요? 꿈드림 이용 가능하나요??\n",
      "만 18세 학교 밖 청소년 군 입대 신체검사 한국나이로는 19인 학교 밖 청소년이고, 고졸입니다. 질문은 1. 확실치는 않은데, 제가 3달후에 출국하고 2년정도 후에야 돌아올 것 같아서, 미리 군 입대 신체검사를 받고자 하는데 만 18세이고 아직 미성년자인 제가 현 시점에서 군 입대 신체검사를 신청하고 받을 수 있나요?\n",
      "안녕하세요 학교밖 청소년입니다. 다름이 아니라 학교밖청소년지원이 꽤 시스템 구축이 잘 되있는걸로 알아서 일본어라던가 멘토링을 받고싶은데 현재 진행중인게 있을까요 ?\n",
      "학교밖청소년 현재 20이된 곧 등록금을 낼 예정인 사람입니다. 원래 학교밖청소년이었는데 대학을 입학하는데 더이상 학교밖청소년이 아닌지 궁금해요\n"
     ]
    }
   ],
   "source": [
    "import requests\n",
    "from bs4 import BeautifulSoup\n",
    "\n",
    "url = \"https://search.naver.com/search.naver?where=kin&sm=tab_jum&query=%ED%95%99%EA%B5%90+%EB%B0%96+%EC%B2%AD%EC%86%8C%EB%85%84\"\n",
    "headers = {\"User-Agent\":\"Mozilla/5.0 (Windows NT 10.0; Win64; x64) AppleWebKit/537.36 (KHTML, like Gecko) Chrome/111.0.0.0 Safari/537.36\"}\n",
    "res = requests.get(url, headers = headers)\n",
    "soup = BeautifulSoup(res.text, \"lxml\")\n",
    "\n",
    "for i in range(1,4):\n",
    "    stu_title_1 = soup.select_one(f\"._svp_item:nth-child({i}) .question_text\").text\n",
    "    print(stu_title_1)\n",
    "\n",
    "for i in range(4,11):\n",
    "    stu_title_2 = soup.select_one(f\":nth-child({i}) .question_text\").text\n",
    "    print(stu_title_2)"
   ]
  },
  {
   "cell_type": "code",
   "execution_count": 1,
   "metadata": {},
   "outputs": [],
   "source": [
    "import requests\n",
    "from bs4 import BeautifulSoup\n",
    "\n",
    "title_list = []\n",
    "for i in range(0,20):\n",
    "    url = f\"https://search.naver.com/search.naver?where=kin&kin_display=10&qt=&title=0&&answer=0&grade=0&choice=0&sec=0&nso=so%3Ar%2Ca%3Aall%2Cp%3Aall&query=%ED%95%99%EA%B5%90+%EB%B0%96+%EC%B2%AD%EC%86%8C%EB%85%84&c_id=&c_name=&sm=tab_pge&kin_start={i*10 + 1}&kin_age=0\"\n",
    "    headers = {\"User-Agent\":\"Mozilla/5.0 (Windows NT 10.0; Win64; x64) AppleWebKit/537.36 (KHTML, like Gecko) Chrome/111.0.0.0 Safari/537.36\"}\n",
    "    res = requests.get(url, headers = headers)\n",
    "    soup = BeautifulSoup(res.text, \"lxml\")\n",
    "\n",
    "    for i in range(1,4):\n",
    "        stu_title_1 = soup.select_one(f\"._svp_item:nth-child({i}) .question_text\").text\n",
    "        title_list.append(stu_title_1)\n",
    "\n",
    "    for i in range(4,11):\n",
    "        stu_title_2 = soup.select_one(f\":nth-child({i}) .question_text\").text\n",
    "        title_list.append(stu_title_2)"
   ]
  },
  {
   "cell_type": "code",
   "execution_count": 2,
   "metadata": {},
   "outputs": [
    {
     "name": "stdout",
     "output_type": "stream",
     "text": [
      "청소년 : 132\n",
      "학교 : 117\n",
      "밖 : 111\n",
      "학교밖 : 59\n",
      "학교밖청소년 : 52\n",
      "제가 : 43\n",
      "수 : 43\n",
      "어떻게 : 34\n",
      "건강검진 : 34\n",
      "있나요? : 29\n",
      "있는 : 24\n",
      "... : 22\n",
      "받을 : 20\n",
      "저는 : 20\n",
      "현재 : 17\n",
      "자퇴를 : 17\n",
      "알려주세요 : 15\n",
      "청소년이 : 15\n",
      "그 : 14\n",
      "고등학교를 : 14\n",
      "있을까요? : 14\n",
      "학교를 : 14\n",
      "검정고시 : 13\n",
      "백신 : 13\n",
      "아니면 : 13\n",
      "지금 : 12\n",
      "안녕하세요 : 12\n",
      "질문 : 12\n",
      "안 : 12\n",
      "지원 : 12\n"
     ]
    }
   ],
   "source": [
    "from collections import Counter\n",
    "\n",
    "words = []\n",
    "for title in title_list:\n",
    "    words += title.split()\n",
    "word_count = Counter(words)\n",
    "\n",
    "for word, count in word_count.most_common(30):\n",
    "    print(word + ' : ' + str(count))"
   ]
  },
  {
   "cell_type": "code",
   "execution_count": 3,
   "metadata": {},
   "outputs": [
    {
     "name": "stdout",
     "output_type": "stream",
     "text": [
      "청소년 132\n",
      "학교 117\n",
      "학교밖 59\n",
      "학교밖청소년 52\n",
      "건강검진 34\n",
      "자퇴를 17\n",
      "알려주세요 15\n",
      "청소년이 15\n",
      "고등학교를 14\n",
      "학교를 14\n",
      "검정고시 13\n",
      "백신 13\n",
      "질문 12\n",
      "안 12\n",
      "지원 12\n",
      "꿈드림 11\n",
      "그래서 11\n",
      "자퇴한 11\n",
      "중학교 11\n",
      "지원금 11\n",
      "검정고시를 10\n",
      "? 10\n",
      "코로나 10\n",
      "너무 10\n",
      "따로 10\n",
      "꼭 10\n",
      "알바 10\n",
      "알바를 9\n",
      "해야 9\n",
      "관련 9\n"
     ]
    }
   ],
   "source": [
    "stop_words = ['지금', '안녕하세요', '만', '아니면', '수', '밖', '그', '제가', '있나요?', '받을', '있는',\n",
    "              '어떻게', '저는', '현재', '하는데', '...', '있을까요?']\n",
    "\n",
    "words = [word for word in words if word not in stop_words]\n",
    "word_count = Counter(words)\n",
    "\n",
    "for word, count in word_count.most_common(30):\n",
    "    print(word, count)\n"
   ]
  },
  {
   "cell_type": "code",
   "execution_count": null,
   "metadata": {},
   "outputs": [],
   "source": []
  }
 ],
 "metadata": {
  "kernelspec": {
   "display_name": "base",
   "language": "python",
   "name": "python3"
  },
  "language_info": {
   "codemirror_mode": {
    "name": "ipython",
    "version": 3
   },
   "file_extension": ".py",
   "mimetype": "text/x-python",
   "name": "python",
   "nbconvert_exporter": "python",
   "pygments_lexer": "ipython3",
   "version": "3.9.13"
  },
  "orig_nbformat": 4
 },
 "nbformat": 4,
 "nbformat_minor": 2
}
